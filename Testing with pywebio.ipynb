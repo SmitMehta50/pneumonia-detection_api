{
 "cells": [
  {
   "cell_type": "code",
   "execution_count": 1,
   "metadata": {
    "colab": {
     "base_uri": "https://localhost:8080/"
    },
    "id": "MsGdwX4ukmJg",
    "outputId": "adc2900b-c9f0-48c2-c191-7711f1d9d04b"
   },
   "outputs": [
    {
     "name": "stdout",
     "output_type": "stream",
     "text": [
      "2.5.0\n"
     ]
    }
   ],
   "source": [
    "import tensorflow as tf\n",
    "print(tf.__version__)"
   ]
  },
  {
   "cell_type": "code",
   "execution_count": 2,
   "metadata": {
    "id": "emknD5Kcqdga"
   },
   "outputs": [],
   "source": [
    "# save_path = 'C:/Users/nakul/OneDrive/Desktop/dl projects'\n",
    "model_name = 'xray_model'\n",
    "# model_path = save_path + '/' + model_name\n",
    "\n",
    "from sklearn.metrics import confusion_matrix\n",
    "import numpy as np\n",
    "\n",
    "def binary_balanced_accuracy(y_true, y_pred):\n",
    "    y_true = y_true.numpy()\n",
    "    y_pred = y_pred.numpy()\n",
    "\n",
    "    y_true = y_true.ravel()\n",
    "    y_pred = np.round(y_pred.ravel())\n",
    "    num_classes = len(np.unique(y_true))\n",
    "\n",
    "    cm = confusion_matrix(y_true, y_pred).T\n",
    "    balanced_accuracy = 0\n",
    "    for i in range(num_classes):\n",
    "        num = cm[i,i]\n",
    "        den = np.sum(cm[:,i])\n",
    "        if num == 0 :\n",
    "            acc = 0\n",
    "        else:\n",
    "            acc = num / den\n",
    "        balanced_accuracy += acc\n",
    "\n",
    "    return (balanced_accuracy / num_classes)\n",
    "\n",
    "model = tf.keras.models.load_model(model_name , custom_objects = {'binary_balanced_accuracy' : binary_balanced_accuracy})"
   ]
  },
  {
   "cell_type": "code",
   "execution_count": 3,
   "metadata": {
    "colab": {
     "base_uri": "https://localhost:8080/"
    },
    "id": "MyFte3i0REKN",
    "outputId": "17c8a98a-db39-46b1-d5e1-f43951310245"
   },
   "outputs": [
    {
     "name": "stdout",
     "output_type": "stream",
     "text": [
      "{0: 'NORMAL', 1: 'PNEUMONIA'}\n"
     ]
    }
   ],
   "source": [
    "import joblib\n",
    "labels = joblib.load('labels.joblib')\n",
    "\n",
    "print(labels)"
   ]
  },
  {
   "cell_type": "code",
   "execution_count": 4,
   "metadata": {
    "id": "6JSz_XJ0jb_h"
   },
   "outputs": [],
   "source": [
    "from pywebio.input import file_upload\n",
    "from pywebio.output import put_image,put_tabs"
   ]
  },
  {
   "cell_type": "code",
   "execution_count": 5,
   "metadata": {
    "id": "b22DLw0lfb-j"
   },
   "outputs": [],
   "source": [
    "def predict_class():\n",
    "    img = file_upload(placeholder = 'Upload image of the xray')\n",
    "    x = tf.io.decode_image(img['content'])\n",
    "    try:\n",
    "        x = tf.image.rgb_to_grayscale(x)\n",
    "    except :\n",
    "        pass\n",
    "    x = tf.image.resize(x,[150,150])\n",
    "    x = x / 255.0\n",
    "    x = tf.expand_dims(x, axis=0)\n",
    "    cls = model.predict(x)\n",
    "    cls = np.round(cls.ravel())\n",
    "    text = 'Predicted Class : ' + str(labels[int(cls[0])])\n",
    "    put_tabs([\n",
    "    {'title': 'Result', 'content': text},\n",
    "    {'title': 'Uploaded Image', 'content': [\n",
    "        put_image(img['content'],width='300px',height='300px',title='X-ray_Image')\n",
    "    ]},\n",
    "    ])"
   ]
  },
  {
   "cell_type": "code",
   "execution_count": 6,
   "metadata": {},
   "outputs": [],
   "source": [
    "predict_class()"
   ]
  },
  {
   "cell_type": "code",
   "execution_count": null,
   "metadata": {},
   "outputs": [],
   "source": []
  }
 ],
 "metadata": {
  "accelerator": "GPU",
  "colab": {
   "collapsed_sections": [],
   "name": "app.ipynb",
   "provenance": []
  },
  "kernelspec": {
   "display_name": "Python 3",
   "language": "python",
   "name": "python3"
  },
  "language_info": {
   "codemirror_mode": {
    "name": "ipython",
    "version": 3
   },
   "file_extension": ".py",
   "mimetype": "text/x-python",
   "name": "python",
   "nbconvert_exporter": "python",
   "pygments_lexer": "ipython3",
   "version": "3.7.7"
  }
 },
 "nbformat": 4,
 "nbformat_minor": 1
}
